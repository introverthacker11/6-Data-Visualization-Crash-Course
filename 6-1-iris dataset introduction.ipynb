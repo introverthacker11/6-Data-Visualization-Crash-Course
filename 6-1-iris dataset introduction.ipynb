{
 "cells": [
  {
   "cell_type": "markdown",
   "id": "67cf47cf",
   "metadata": {},
   "source": [
    "# Iris Data Set :"
   ]
  },
  {
   "cell_type": "markdown",
   "id": "0b9eb564",
   "metadata": {},
   "source": [
    "##### The Iris dataset is a famous dataset in the field of machine learning and statistics. It was introduced by the British statistician and biologist Ronald Fisher in his 1936 paper \"The Use of Multiple Measurements in Taxonomic Problems\" as an example of discriminant analysis. The dataset is often used as a benchmark for testing various classification algorithms.\n",
    "\n",
    "##### The Iris dataset consists of 150 samples of iris flowers, each belonging to one of three species: Setosa, Versicolor, and Virginica. For each sample, four features were measured:\n",
    "\n",
    "##### 1. Sepal length (in centimeters)\n",
    "##### 2. Sepal width (in centimeters)\n",
    "##### 3. Petal length (in centimeters)\n",
    "##### 4. Petal width (in centimeters)\n",
    "\n",
    "##### These measurements were taken from 50 flowers of each species. The goal of using this dataset is typically to classify iris flowers based on these four features.\n",
    "\n",
    "##### The Iris dataset is commonly used in introductory machine learning tutorials, algorithm benchmarking, and teaching classification concepts due to its simplicity and availability."
   ]
  }
 ],
 "metadata": {
  "kernelspec": {
   "display_name": "Python 3 (ipykernel)",
   "language": "python",
   "name": "python3"
  },
  "language_info": {
   "codemirror_mode": {
    "name": "ipython",
    "version": 3
   },
   "file_extension": ".py",
   "mimetype": "text/x-python",
   "name": "python",
   "nbconvert_exporter": "python",
   "pygments_lexer": "ipython3",
   "version": "3.11.5"
  }
 },
 "nbformat": 4,
 "nbformat_minor": 5
}
